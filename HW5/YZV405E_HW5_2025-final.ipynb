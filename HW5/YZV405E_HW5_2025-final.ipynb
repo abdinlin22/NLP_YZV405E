{
  "cells": [
    {
      "cell_type": "markdown",
      "metadata": {
        "id": "EsCQbpVrX96_"
      },
      "source": [
        "# **YZV405E - Natural Language Processing / Homework 5**\n",
        "---"
      ]
    },
    {
      "cell_type": "markdown",
      "metadata": {
        "id": "QCZp5wlsYChV"
      },
      "source": [
        "## **1. Introduction**"
      ]
    },
    {
      "cell_type": "markdown",
      "metadata": {
        "id": "Os1R-bA4YViB"
      },
      "source": [
        "**Any modification to the structure of the notebook is strictly prohibited.\n",
        "\n",
        "**All cells must remain exactly as provided no ADDITIONS or DELETIONS are permitted.\n",
        "\n",
        "**The notebook must be submitted with all cells fully executed, and any submission lacking outputs will not be evaluated.\n",
        "\n",
        "**Copy-paste solutions from LLM chatbots will not be evaluated\n",
        "\n",
        "**Late submission will never be accepted\n",
        "\n",
        "For this assignment, your task involves creating a neural network designed to convert text from **Turkish into English**.\n",
        "\n",
        "You will utilize the straightforward yet impactful concept of the sequence-to-sequence network. It operates through a pair of recurrent neural networks collaborating to convert one sequence into another. One network, the encoder, compresses the input sequence into a vector, while the other, the decoder, expands that vector into a new sequence.\n",
        "\n",
        "\n",
        "> In this assignment, we aim to enhance the model by incorporating an **attention mechanism**. This mechanism enables the decoder to dynamically learn where to focus within the input sequence, enhancing its ability to generate accurate translations.\n",
        "\n"
      ]
    },
    {
      "cell_type": "markdown",
      "metadata": {
        "id": "DUUTe9g4aJZ8"
      },
      "source": [
        "### **1.1. Necessary libraries**"
      ]
    },
    {
      "cell_type": "code",
      "execution_count": 20,
      "metadata": {
        "id": "oynIMOYmXz3-"
      },
      "outputs": [],
      "source": [
        "from __future__ import unicode_literals, print_function, division\n",
        "from io import open\n",
        "import unicodedata\n",
        "import re\n",
        "import random\n",
        "\n",
        "import torch\n",
        "import torch.nn as nn\n",
        "from torch import optim\n",
        "import torch.nn.functional as F\n",
        "\n",
        "import numpy as np\n",
        "from torch.utils.data import TensorDataset, DataLoader, RandomSampler\n",
        "\n",
        "%matplotlib inline\n",
        "\n",
        "device = torch.device(\"cuda\" if torch.cuda.is_available() else \"cpu\")"
      ]
    },
    {
      "cell_type": "markdown",
      "metadata": {
        "id": "87Uz3ImTaWd_"
      },
      "source": [
        "## **2. Data**"
      ]
    },
    {
      "cell_type": "markdown",
      "metadata": {
        "id": "UVQ2VUWQabGz"
      },
      "source": [
        "The dataset for this project consists of thousands of Turkish-to-English translation pairs. Download it from [here](https://www.manythings.org/anki/tur-eng.zip) before continuing and extract it to the current directory. The file is a tab separated list of translation pairs:\n",
        "\n",
        "```\n",
        "Look up.    Yukarı bak.\n",
        "```\n",
        "\n",
        "Just like how characters are encoded in character-level RNN tutorials from the class slides, we'll represent **each word in a language as a one-hot vector**. This vector is like a long list of zeros with just one \"1\" indicating the word's position. Unlike the limited number of characters in a language, there are a lot more words, so the vector is bigger. But to keep things manageable, we'll only use a few thousand words for each language.\n",
        "\n",
        "We'll require a distinct index for each word to serve as the inputs and targets for the networks later on. To manage this, we'll utilize a helper class called **Data**. This class contains dictionaries, *word → index* (word2index), and *index → word* (index2word), alongside a count for each word (word2count). This count will come in handy for replacing less common words later on."
      ]
    },
    {
      "cell_type": "code",
      "execution_count": 21,
      "metadata": {
        "id": "2rx0916EaQOd"
      },
      "outputs": [],
      "source": [
        "SOS_token = 0\n",
        "EOS_token = 1\n",
        "\n",
        "class Data:\n",
        "    def __init__(self, name):\n",
        "        self.name = name\n",
        "        self.word2index = {}\n",
        "        self.word2count = {}\n",
        "        self.index2word = {0: \"SOS\", 1: \"EOS\"}\n",
        "        self.n_words = 2  # Count SOS and EOS\n",
        "\n",
        "    def addSentence(self, sentence):\n",
        "        for word in sentence.split(' '):\n",
        "            self.addWord(word)\n",
        "\n",
        "    def addWord(self, word):\n",
        "        if word not in self.word2index:\n",
        "            self.word2index[word] = self.n_words\n",
        "            self.word2count[word] = 1\n",
        "            self.index2word[self.n_words] = word\n",
        "            self.n_words += 1\n",
        "        else:\n",
        "            ### START YOUR CODE HERE ###\n",
        "            self.word2count[word] += 1\n",
        "\n",
        "\n",
        "            ### END YOUR CODE HERE ###"
      ]
    },
    {
      "cell_type": "markdown",
      "metadata": {
        "id": "UPbopwY8dMsK"
      },
      "source": [
        "The files are all in Unicode format. To simplify things, we'll convert Unicode characters to ASCII, convert all text to lowercase, and remove most punctuation marks."
      ]
    },
    {
      "cell_type": "code",
      "execution_count": 22,
      "metadata": {
        "id": "PJ1XQdbZdFyp"
      },
      "outputs": [],
      "source": [
        "def unicodeToAscii(s):\n",
        "    return ''.join(\n",
        "        c for c in unicodedata.normalize('NFD', s)\n",
        "        if unicodedata.category(c) != 'Mn'\n",
        "    )\n",
        "\n",
        "def normalizeString(s):\n",
        "    s = unicodeToAscii(s.lower().strip())\n",
        "    s = re.sub(r\"([.!?])\", r\" \\1\", s)\n",
        "    return s.strip()"
      ]
    },
    {
      "cell_type": "markdown",
      "metadata": {
        "id": "9Jl5QCXsdexf"
      },
      "source": [
        "To read the data file we will split the file into lines, and then split lines into pairs. The file is English → Turkish, so if we want to translate from Turkish → English we need to reverse the pairs.\n",
        "\n"
      ]
    },
    {
      "cell_type": "code",
      "execution_count": 23,
      "metadata": {
        "id": "fcj-fnjtdS5S"
      },
      "outputs": [],
      "source": [
        "def readLangs(lang1, lang2, reverse=False):\n",
        "    print(\"Reading lines...\")\n",
        "\n",
        "    # Read the file and split into lines\n",
        "    lines = open('%s.txt' % (lang2), encoding='utf-8').\\\n",
        "        read().strip().split('\\n')\n",
        "\n",
        "    # Split every line into pairs and normalize\n",
        "    pairs = [[normalizeString(s) for s in l.split('\\t')][:2] for l in lines]\n",
        "\n",
        "    # Reverse pairs, make Data instances\n",
        "    if reverse:\n",
        "        pairs = [list(reversed(p)) for p in pairs]\n",
        "\n",
        "        ### START YOUR CODE HERE ###\n",
        "        input_lang = Data(lang2)\n",
        "        output_lang = Data(lang1)\n",
        "\n",
        "\n",
        "        ### END YOUR CODE HERE ###\n",
        "    else:\n",
        "        input_lang = Data(lang1)\n",
        "        output_lang = Data(lang2)\n",
        "\n",
        "    return input_lang, output_lang, pairs"
      ]
    },
    {
      "cell_type": "markdown",
      "metadata": {
        "id": "kyOE4WNJeM_G"
      },
      "source": [
        "Given the abundance of example sentences and our desire for quick training, we'll limit the dataset to relatively short and straightforward sentences. We'll set a maximum length of 10 words, which includes any ending punctuation."
      ]
    },
    {
      "cell_type": "code",
      "execution_count": 24,
      "metadata": {
        "id": "yl8o5Ij4dw3n"
      },
      "outputs": [],
      "source": [
        "MAX_LENGTH = 10\n",
        "\n",
        "def filterPair(p):\n",
        "    return len(p[0].split(' ')) < MAX_LENGTH and \\\n",
        "        len(p[1].split(' ')) < MAX_LENGTH\n",
        "\n",
        "\n",
        "def filterPairs(pairs):\n",
        "    return [pair for pair in pairs if filterPair(pair)]"
      ]
    },
    {
      "cell_type": "markdown",
      "metadata": {
        "id": "f0Ofb3RweYVM"
      },
      "source": [
        "The complete process for data preparation involves:\n",
        "\n",
        "1. Reading the text file and splitting it into lines, then further splitting the lines into pairs.\n",
        "2. Normalizing the text and filtering it based on length and content criteria.\n",
        "3. Generating word lists from the sentences in pairs."
      ]
    },
    {
      "cell_type": "code",
      "execution_count": 25,
      "metadata": {
        "colab": {
          "base_uri": "https://localhost:8080/"
        },
        "id": "0gu4qO52eUoX",
        "outputId": "3fb5fa4f-f6ce-4e5e-b1df-a5d57a158afa"
      },
      "outputs": [
        {
          "output_type": "stream",
          "name": "stdout",
          "text": [
            "Reading lines...\n",
            "Read 145105 sentence pairs\n",
            "Trimmed to 12364 sentence pairs\n",
            "Counting words...\n",
            "Counted words:\n",
            "tur 8540\n",
            "eng 3551\n",
            "['tom dinleniyor .', 'tom is resting .']\n"
          ]
        }
      ],
      "source": [
        "def prepareData(lang1, lang2, percentage, reverse=False):\n",
        "    input_lang, output_lang, pairs = readLangs(lang1, lang2, reverse)\n",
        "    print(\"Read %s sentence pairs\" % len(pairs))\n",
        "    pairs = filterPairs(pairs)\n",
        "\n",
        "    # Since the dataset is too big, get only part of it\n",
        "    pairs = pairs[:round(len(pairs)*percentage)]\n",
        "\n",
        "    print(\"Trimmed to %s sentence pairs\" % len(pairs))\n",
        "    print(\"Counting words...\")\n",
        "    for pair in pairs:\n",
        "        ### START YOUR CODE HERE ###\n",
        "        input_lang.addSentence(pair[0])\n",
        "        output_lang.addSentence(pair[1])\n",
        "        ### END YOUR CODE HERE ###\n",
        "    print(\"Counted words:\")\n",
        "    print(input_lang.name, input_lang.n_words)\n",
        "    print(output_lang.name, output_lang.n_words)\n",
        "    return input_lang, output_lang, pairs\n",
        "\n",
        "input_lang, output_lang, pairs = prepareData('eng', 'tur', 0.1, True)\n",
        "print(random.choice(pairs))"
      ]
    },
    {
      "cell_type": "markdown",
      "metadata": {
        "id": "jncdrSKzgpC4"
      },
      "source": [
        "\n",
        "\n",
        "```\n",
        "Reading lines...\n",
        "Read 145105 sentence pairs\n",
        "Trimmed to 12364 sentence pairs\n",
        "Counting words...\n",
        "Counted words:\n",
        "eng 8540\n",
        "tur 3551\n",
        "['bocekler beni buyuluyor .', 'bugs fascinate me .']\n",
        "```\n",
        "\n"
      ]
    },
    {
      "cell_type": "markdown",
      "metadata": {
        "id": "wbEifH-Tgu2l"
      },
      "source": [
        "## **3. Model**"
      ]
    },
    {
      "cell_type": "markdown",
      "metadata": {
        "id": "yYcf4KDehrYX"
      },
      "source": [
        "An **RNN**, short for Recurrent Neural Network, is a type of network designed to process sequential data. It utilizes its own output as input for subsequent steps in the sequence.\n",
        "\n",
        "A **Sequence-to-Sequence network**, also known as a seq2seq network or Encoder-Decoder network, comprises two RNNs: the encoder and decoder. The encoder reads an input sequence and produces a single vector, while the decoder utilizes that vector to generate an output sequence.\n",
        "\n",
        "In contrast to sequence prediction using a single RNN, where each input corresponds to an output, the seq2seq model offers **flexibility regarding sequence length and order**, making it well-suited for language translation tasks.\n",
        "\n",
        "Consider the sentence \"*Akşam geldiğinde bana haber ver.*\" translated to \"*Let me know when you come in the evening.*\" While most words have direct translations, they're arranged differently, such as \"*akşam geldiğinde*\" and \"*when you come in the evening*\" Additionally, there are extra words in the output sentence. Directly translating from the input word sequence would be challenging.\n",
        "\n",
        "With a seq2seq model, the encoder produces a single vector that ideally encapsulates the \"meaning\" of the input sequence into a single point within an N-dimensional space of sentences.\n",
        "\n"
      ]
    },
    {
      "cell_type": "markdown",
      "metadata": {
        "id": "6V1u5BUsjHSw"
      },
      "source": [
        "###**3.1. The Encoder**"
      ]
    },
    {
      "cell_type": "markdown",
      "metadata": {
        "id": "8N0MtSJCjSjS"
      },
      "source": [
        "In a seq2seq network, the encoder is an RNN that generates a value for each word in the input sentence. For every input word, the encoder produces both a vector and a hidden state. It then utilizes this hidden state for processing the subsequent input word."
      ]
    },
    {
      "cell_type": "code",
      "execution_count": 26,
      "metadata": {
        "id": "W327UQEwelHO"
      },
      "outputs": [],
      "source": [
        "class EncoderRNN(nn.Module):\n",
        "    def __init__(self, input_size, hidden_size, dropout_p=0.1):\n",
        "        super(EncoderRNN, self).__init__()\n",
        "        self.hidden_size = hidden_size\n",
        "\n",
        "        self.embedding = nn.Embedding(input_size, hidden_size)\n",
        "        self.gru = nn.GRU(hidden_size, hidden_size, batch_first=True)\n",
        "        self.dropout = nn.Dropout(dropout_p)\n",
        "\n",
        "    def forward(self, input):\n",
        "        ### START YOUR CODE HERE ###\n",
        "        embedded = self.dropout(self.embedding(input))\n",
        "        output, hidden = self.gru(embedded)\n",
        "        ### END YOUR CODE HERE ###\n",
        "        return output, hidden"
      ]
    },
    {
      "cell_type": "markdown",
      "metadata": {
        "id": "hE5M0Ul3jY4F"
      },
      "source": [
        "###**3.2. The Decoder**"
      ]
    },
    {
      "cell_type": "markdown",
      "metadata": {
        "id": "x3GS_jS3jhaI"
      },
      "source": [
        "The decoder in a seq2seq network is another RNN that receives the encoder output vector(s) and generates a sequence of words to produce the translation."
      ]
    },
    {
      "cell_type": "markdown",
      "metadata": {
        "id": "D_TvEj0jjjsS"
      },
      "source": [
        "####**3.2.1. A Simple Decoder**"
      ]
    },
    {
      "cell_type": "markdown",
      "metadata": {
        "id": "HRmFj8Ntj2fv"
      },
      "source": [
        "In the simplest form of a seq2seq decoder, we utilize **only the last output** of the encoder. This last output is often referred to as the context vector since it encapsulates context from the entire sequence. This context vector serves as the initial hidden state of the decoder.\n",
        "\n",
        "During each step of decoding, the decoder receives an input token along with a hidden state. The initial input token is the start-of-string <SOS> token, and the first hidden state is the context vector, which is the encoder’s last hidden state."
      ]
    },
    {
      "cell_type": "code",
      "execution_count": 27,
      "metadata": {
        "id": "i4y4L2O-jXAT"
      },
      "outputs": [],
      "source": [
        "class DecoderRNN(nn.Module):\n",
        "    def __init__(self, hidden_size, output_size):\n",
        "        super(DecoderRNN, self).__init__()\n",
        "        self.embedding = nn.Embedding(output_size, hidden_size)\n",
        "        self.gru = nn.GRU(hidden_size, hidden_size, batch_first=True)\n",
        "        self.out = nn.Linear(hidden_size, output_size)\n",
        "\n",
        "    def forward(self, encoder_outputs, encoder_hidden, target_tensor=None):\n",
        "        batch_size = encoder_outputs.size(0)\n",
        "        decoder_input = torch.empty(batch_size, 1, dtype=torch.long, device=device).fill_(SOS_token)\n",
        "        decoder_hidden = encoder_hidden\n",
        "        decoder_outputs = []\n",
        "\n",
        "        for i in range(MAX_LENGTH):\n",
        "            decoder_output, decoder_hidden  = self.forward_step(decoder_input, decoder_hidden)\n",
        "            decoder_outputs.append(decoder_output)\n",
        "\n",
        "            if target_tensor is not None:\n",
        "                # Teacher forcing: Feed the target as the next input\n",
        "                decoder_input = target_tensor[:, i].unsqueeze(1) # Teacher forcing\n",
        "            else:\n",
        "                # Without teacher forcing: use its own predictions as the next input\n",
        "                _, topi = decoder_output.topk(1)\n",
        "                decoder_input = topi.squeeze(-1).detach()  # detach from history as input\n",
        "\n",
        "        decoder_outputs = torch.cat(decoder_outputs, dim=1)\n",
        "        decoder_outputs = F.log_softmax(decoder_outputs, dim=-1)\n",
        "        return decoder_outputs, decoder_hidden, None # We return `None` for consistency in the training loop\n",
        "\n",
        "    def forward_step(self, input, hidden):\n",
        "        output = self.embedding(input)\n",
        "        output = F.relu(output)\n",
        "        output, hidden = self.gru(output, hidden)\n",
        "        output = self.out(output)\n",
        "        return output, hidden"
      ]
    },
    {
      "cell_type": "markdown",
      "metadata": {
        "id": "Pw9NS_G2kB3a"
      },
      "source": [
        "####**3.2.2. Decoder with Attention**"
      ]
    },
    {
      "cell_type": "markdown",
      "metadata": {
        "id": "oEAnaRsPkLHv"
      },
      "source": [
        "When only the context vector is transmitted between the encoder and decoder, that single vector bears the responsibility of encoding the entire sentence.\n",
        "\n",
        "Attention mechanism alleviates this burden by enabling the decoder network to **\"focus\" on different segments** of the encoder's outputs at each step of its own output generation. Initially, attention weights are computed. These weights are then multiplied by the encoder output vectors to form a weighted combination. The resulting vector (referred to as *attn_applied* in the code) contains information pertaining to the specific part of the input sequence, aiding the decoder in selecting the appropriate output words.\n",
        "\n",
        "The calculation of attention weights involves utilizing another feed-forward layer, referred to as *attn*, which takes the decoder's input and hidden state as inputs. Since the training data contains sentences of varying lengths, we need to specify a maximum sentence length (input length) for which this layer can be applied. Sentences of the maximum length will utilize all the attention weights, while shorter sentences will only utilize the first few weights.\n",
        "\n",
        "Bahdanau attention, also known as **additive attention**, is a widely adopted attention mechanism in sequence-to-sequence models, especially in neural machine translation studies. Proposed by Bahdanau et al. in their paper titled \"*Neural Machine Translation by Jointly Learning to Align and Translate*,\" this attention mechanism employs a learned alignment model to compute attention scores between the hidden states of the encoder and decoder. It leverages a feed-forward neural network to compute alignment scores."
      ]
    },
    {
      "cell_type": "code",
      "execution_count": 28,
      "metadata": {
        "id": "kd5kxtIsj_NN"
      },
      "outputs": [],
      "source": [
        "class AdditiveAttention(nn.Module):\n",
        "    def __init__(self, hidden_size):\n",
        "        super(AdditiveAttention, self).__init__()\n",
        "        self.Wa = nn.Linear(hidden_size, hidden_size)\n",
        "        self.Ua = nn.Linear(hidden_size, hidden_size)\n",
        "        self.Va = nn.Linear(hidden_size, 1)\n",
        "\n",
        "    def forward(self, query, keys):\n",
        "        ### START YOUR CODE HERE ###\n",
        "        scores = self.Va(torch.tanh(self.Wa(keys) + self.Ua(query)))\n",
        "        ### END YOUR CODE HERE ###\n",
        "        scores = scores.squeeze(2).unsqueeze(1)\n",
        "\n",
        "        weights = F.softmax(scores, dim=-1)\n",
        "        context = torch.bmm(weights, keys)\n",
        "\n",
        "        return context, weights\n",
        "\n",
        "class AttnDecoderRNN(nn.Module):\n",
        "    def __init__(self, hidden_size, output_size, dropout_p=0.1):\n",
        "        super(AttnDecoderRNN, self).__init__()\n",
        "        self.embedding = nn.Embedding(output_size, hidden_size)\n",
        "        ### START YOUR CODE HERE ###\n",
        "        self.attention = AdditiveAttention(hidden_size)\n",
        "        ### END YOUR CODE HERE ###\n",
        "        self.gru = nn.GRU(2 * hidden_size, hidden_size, batch_first=True)\n",
        "        self.out = nn.Linear(hidden_size, output_size)\n",
        "        self.dropout = nn.Dropout(dropout_p)\n",
        "\n",
        "    def forward(self, encoder_outputs, encoder_hidden, target_tensor=None):\n",
        "        batch_size = encoder_outputs.size(0)\n",
        "        decoder_input = torch.empty(batch_size, 1, dtype=torch.long, device=device).fill_(SOS_token)\n",
        "        decoder_hidden = encoder_hidden\n",
        "        decoder_outputs = []\n",
        "        attentions = []\n",
        "\n",
        "        for i in range(MAX_LENGTH):\n",
        "            decoder_output, decoder_hidden, attn_weights = self.forward_step(\n",
        "                decoder_input, decoder_hidden, encoder_outputs\n",
        "            )\n",
        "            decoder_outputs.append(decoder_output)\n",
        "            attentions.append(attn_weights)\n",
        "\n",
        "            if target_tensor is not None:\n",
        "                # Teacher forcing: Feed the target as the next input\n",
        "                decoder_input = target_tensor[:, i].unsqueeze(1) # Teacher forcing\n",
        "            else:\n",
        "                # Without teacher forcing: use its own predictions as the next input\n",
        "                _, topi = decoder_output.topk(1)\n",
        "                decoder_input = topi.squeeze(-1).detach()  # detach from history as input\n",
        "\n",
        "        decoder_outputs = torch.cat(decoder_outputs, dim=1)\n",
        "        decoder_outputs = F.log_softmax(decoder_outputs, dim=-1)\n",
        "        attentions = torch.cat(attentions, dim=1)\n",
        "\n",
        "        return decoder_outputs, decoder_hidden, attentions\n",
        "\n",
        "\n",
        "    def forward_step(self, input, hidden, encoder_outputs):\n",
        "        embedded =  self.dropout(self.embedding(input))\n",
        "\n",
        "        query = hidden.permute(1, 0, 2)\n",
        "        ### START YOUR CODE HERE ###\n",
        "        context, attn_weights = self.attention(query, encoder_outputs)\n",
        "        input_gru = torch.cat([embedded, context], dim=2)\n",
        "        ### END YOUR CODE HERE ###\n",
        "\n",
        "        output, hidden = self.gru(input_gru, hidden)\n",
        "        output = self.out(output)\n",
        "\n",
        "        return output, hidden, attn_weights"
      ]
    },
    {
      "cell_type": "markdown",
      "metadata": {
        "id": "2IiG611GmtUo"
      },
      "source": [
        "##**4. Training**"
      ]
    },
    {
      "cell_type": "markdown",
      "metadata": {
        "id": "i_Lzi0gcmw75"
      },
      "source": [
        "### **4.1. Preparing the training data**"
      ]
    },
    {
      "cell_type": "markdown",
      "metadata": {
        "id": "aqhyD19Rm5o_"
      },
      "source": [
        "During training, for each pair, we'll require an input tensor (containing indexes of the words in the input sentence) and a target tensor (containing indexes of the words in the target sentence). When creating these tensors, we'll append the EOS (end-of-sequence) token to both sequences."
      ]
    },
    {
      "cell_type": "code",
      "execution_count": 29,
      "metadata": {
        "id": "5YjU0iSWmowA"
      },
      "outputs": [],
      "source": [
        "def indexesFromSentence(lang, sentence):\n",
        "    return [lang.word2index[word] for word in sentence.split(' ')]\n",
        "\n",
        "def tensorFromSentence(lang, sentence):\n",
        "    indexes = indexesFromSentence(lang, sentence)\n",
        "    ### START YOUR CODE HERE ###\n",
        "    indexes.append(EOS_token)\n",
        "    ### END YOUR CODE HERE ###\n",
        "    return torch.tensor(indexes, dtype=torch.long, device=device).view(1, -1)\n",
        "\n",
        "def tensorsFromPair(pair):\n",
        "    input_tensor = tensorFromSentence(input_lang, pair[0])\n",
        "    target_tensor = tensorFromSentence(output_lang, pair[1])\n",
        "    return (input_tensor, target_tensor)\n",
        "\n",
        "def get_dataloader(batch_size):\n",
        "    input_lang, output_lang, pairs = prepareData('eng', 'tur', 0.1, True)\n",
        "\n",
        "    n = len(pairs)\n",
        "    input_ids = np.zeros((n, MAX_LENGTH), dtype=np.int32)\n",
        "    target_ids = np.zeros((n, MAX_LENGTH), dtype=np.int32)\n",
        "\n",
        "    for idx, (inp, tgt) in enumerate(pairs):\n",
        "        inp_ids = indexesFromSentence(input_lang, inp)\n",
        "        tgt_ids = indexesFromSentence(output_lang, tgt)\n",
        "        inp_ids.append(EOS_token)\n",
        "        tgt_ids.append(EOS_token)\n",
        "        input_ids[idx, :len(inp_ids)] = inp_ids\n",
        "        target_ids[idx, :len(tgt_ids)] = tgt_ids\n",
        "\n",
        "    train_data = TensorDataset(torch.LongTensor(input_ids).to(device),\n",
        "                               torch.LongTensor(target_ids).to(device))\n",
        "\n",
        "    train_sampler = RandomSampler(train_data)\n",
        "\n",
        "    ### START YOUR CODE HERE ###\n",
        "    train_dataloader = DataLoader(train_data, sampler=train_sampler, batch_size=batch_size)\n",
        "    ### END YOUR CODE HERE ###\n",
        "\n",
        "    return input_lang, output_lang, train_dataloader"
      ]
    },
    {
      "cell_type": "markdown",
      "metadata": {
        "id": "WuVx7hDvm_yu"
      },
      "source": [
        "### **4.2. Training the model**"
      ]
    },
    {
      "cell_type": "markdown",
      "metadata": {
        "id": "1Qb-D7CYnNsx"
      },
      "source": [
        "During training, we pass the input sentence through the encoder, keeping track of every output and the latest hidden state. Then, we feed the `<SOS>` token as the first input to the decoder, along with the last hidden state of the encoder as its initial hidden state.\n",
        "\n",
        "\"**Teacher forcing**\" is a concept where we use the real target outputs as each subsequent input during training, instead of relying on the decoder's guess for the next input. Employing teacher forcing can accelerate convergence, but it may lead to instability when the trained network is applied.\n",
        "\n",
        "You may notice that networks trained with teacher forcing produce outputs with coherent grammar but may deviate significantly from the correct translation. This is because they learn to represent the output grammar and can \"pick up\" the meaning once provided with the initial words by the teacher. However, they may not have learned how to generate the sentence from the translation accurately.\n",
        "\n",
        "Thanks to the flexibility provided by PyTorch's autograd, we can easily choose whether to use teacher forcing or not with a simple if statement. Adjusting the `teacher_forcing_ratio` parameter allows us to control the extent to which we use teacher forcing. Increasing this ratio will lead to more extensive utilization of teacher forcing."
      ]
    },
    {
      "cell_type": "code",
      "execution_count": 30,
      "metadata": {
        "id": "_UEqquWlm9Qy"
      },
      "outputs": [],
      "source": [
        "def train_epoch(dataloader, encoder, decoder, encoder_optimizer,\n",
        "          decoder_optimizer, criterion):\n",
        "\n",
        "    total_loss = 0\n",
        "    for data in dataloader:\n",
        "        input_tensor, target_tensor = data\n",
        "\n",
        "        encoder_optimizer.zero_grad()\n",
        "        decoder_optimizer.zero_grad()\n",
        "\n",
        "        encoder_outputs, encoder_hidden = encoder(input_tensor)\n",
        "        decoder_outputs, _, _ = decoder(encoder_outputs, encoder_hidden, target_tensor)\n",
        "\n",
        "        loss = criterion(\n",
        "            decoder_outputs.view(-1, decoder_outputs.size(-1)),\n",
        "            target_tensor.view(-1)\n",
        "        )\n",
        "        loss.backward()\n",
        "\n",
        "        encoder_optimizer.step()\n",
        "        decoder_optimizer.step()\n",
        "\n",
        "        total_loss += loss.item()\n",
        "\n",
        "    return total_loss / len(dataloader)"
      ]
    },
    {
      "cell_type": "markdown",
      "metadata": {
        "id": "KCg3P7-lnj8A"
      },
      "source": [
        "This function serves as a helper to display the elapsed time and estimate the remaining time, based on the current time and progress percentage."
      ]
    },
    {
      "cell_type": "code",
      "execution_count": 31,
      "metadata": {
        "id": "skD3BnkangFE"
      },
      "outputs": [],
      "source": [
        "import time\n",
        "import math\n",
        "\n",
        "def asMinutes(s):\n",
        "    m = math.floor(s / 60)\n",
        "    s -= m * 60\n",
        "    return '%dm %ds' % (m, s)\n",
        "\n",
        "def timeSince(since, percent):\n",
        "    now = time.time()\n",
        "    s = now - since\n",
        "    es = s / (percent)\n",
        "    rs = es - s\n",
        "    return '%s (- %s)' % (asMinutes(s), asMinutes(rs))"
      ]
    },
    {
      "cell_type": "markdown",
      "metadata": {
        "id": "Sn2num-4ny4a"
      },
      "source": [
        "The entire training process proceeds as follows:\n",
        "\n",
        "1. Start a timer.\n",
        "2. Initialize optimizers and criterion.\n",
        "3. Create a set of training pairs.\n",
        "4. Begin with an empty array to store losses for plotting purposes.\n",
        "5. Iteratively call the `train` function multiple times. Occasionally, print the progress (percentage of examples processed), time elapsed so far, estimated remaining time, and average loss."
      ]
    },
    {
      "cell_type": "code",
      "execution_count": 32,
      "metadata": {
        "id": "YmtS6V2BnmLb"
      },
      "outputs": [],
      "source": [
        "def train(train_dataloader, encoder, decoder, n_epochs, learning_rate=0.001,\n",
        "               print_every=100, plot_every=100):\n",
        "    start = time.time()\n",
        "    plot_losses = []\n",
        "    print_loss_total = 0  # Reset every print_every\n",
        "    plot_loss_total = 0  # Reset every plot_every\n",
        "\n",
        "    encoder_optimizer = optim.Adam(encoder.parameters(), lr=learning_rate)\n",
        "    decoder_optimizer = optim.Adam(decoder.parameters(), lr=learning_rate)\n",
        "    criterion = nn.NLLLoss()\n",
        "\n",
        "    for epoch in range(1, n_epochs + 1):\n",
        "        loss = train_epoch(train_dataloader, encoder, decoder, encoder_optimizer, decoder_optimizer, criterion)\n",
        "        print_loss_total += loss\n",
        "        plot_loss_total += loss\n",
        "\n",
        "        if epoch % print_every == 0:\n",
        "            print_loss_avg = print_loss_total / print_every\n",
        "            print_loss_total = 0\n",
        "            print('%s (%d %d%%) %.4f' % (timeSince(start, epoch / n_epochs),\n",
        "                                        epoch, epoch / n_epochs * 100, print_loss_avg))\n",
        "\n",
        "        if epoch % plot_every == 0:\n",
        "            plot_loss_avg = plot_loss_total / plot_every\n",
        "            plot_losses.append(plot_loss_avg)\n",
        "            plot_loss_total = 0\n"
      ]
    },
    {
      "cell_type": "markdown",
      "metadata": {
        "id": "zkrx-TR6n7Yk"
      },
      "source": [
        "### **4.3. Plotting the results**"
      ]
    },
    {
      "cell_type": "markdown",
      "metadata": {
        "id": "oMkzAGApoBGy"
      },
      "source": [
        "Plotting is accomplished using Matplotlib, utilizing the array of loss values (`plot_losses`) that was saved during training."
      ]
    },
    {
      "cell_type": "code",
      "execution_count": 33,
      "metadata": {
        "id": "TqGWa17Gn2cc"
      },
      "outputs": [],
      "source": [
        "import matplotlib.pyplot as plt\n",
        "plt.switch_backend('agg')\n",
        "import matplotlib.ticker as ticker\n",
        "import numpy as np\n",
        "\n",
        "def showPlot(points):\n",
        "    plt.figure()\n",
        "    fig, ax = plt.subplots()\n",
        "    # this locator puts ticks at regular intervals\n",
        "    loc = ticker.MultipleLocator(base=0.2)\n",
        "    ax.yaxis.set_major_locator(loc)\n",
        "    plt.plot(points)"
      ]
    },
    {
      "cell_type": "markdown",
      "metadata": {
        "id": "J0-Tk967oE65"
      },
      "source": [
        "## **5. Evaluation**"
      ]
    },
    {
      "cell_type": "markdown",
      "metadata": {
        "id": "M_s7Q5fBoLUj"
      },
      "source": [
        "The evaluation process closely resembles training, but without targets. Instead, we feed the decoder's predictions back to itself for each step. As the decoder predicts each word, we append it to the output string. When it predicts the `EOS` token, we halt the process. Additionally, we store the decoder's attention outputs for later display.\n",
        "\n",
        "\n",
        "\n",
        "\n",
        "\n",
        "\n"
      ]
    },
    {
      "cell_type": "code",
      "execution_count": 34,
      "metadata": {
        "id": "-cK5dzP3oDEf"
      },
      "outputs": [],
      "source": [
        "def evaluate(encoder, decoder, sentence, input_lang, output_lang):\n",
        "    with torch.no_grad():\n",
        "        input_tensor = tensorFromSentence(input_lang, sentence)\n",
        "\n",
        "        encoder_outputs, encoder_hidden = encoder(input_tensor)\n",
        "        decoder_outputs, decoder_hidden, decoder_attn = decoder(encoder_outputs, encoder_hidden)\n",
        "\n",
        "        _, topi = decoder_outputs.topk(1)\n",
        "        decoded_ids = topi.squeeze()\n",
        "\n",
        "        decoded_words = []\n",
        "        for idx in decoded_ids:\n",
        "            if idx.item() == EOS_token:\n",
        "                ### START YOUR CODE HERE ###\n",
        "                break\n",
        "                continue\n",
        "                ### END YOUR CODE HERE ###\n",
        "            decoded_words.append(output_lang.index2word[idx.item()])\n",
        "    return decoded_words, decoder_attn"
      ]
    },
    {
      "cell_type": "markdown",
      "metadata": {
        "id": "SwoZzQbtoUVt"
      },
      "source": [
        "We can assess the quality subjectively by randomly selecting sentences from the training set for evaluation. Then, we print out the input, target, and output sentences to make some quality judgments."
      ]
    },
    {
      "cell_type": "code",
      "execution_count": 35,
      "metadata": {
        "id": "tUMlz6YJoSoa"
      },
      "outputs": [],
      "source": [
        "def evaluateRandomly(encoder, decoder, n=10):\n",
        "    for i in range(n):\n",
        "        pair = random.choice(pairs)\n",
        "        print('>', pair[0])\n",
        "        print('=', pair[1])\n",
        "        output_words, _ = evaluate(encoder, decoder, pair[0], input_lang, output_lang)\n",
        "        output_sentence = ' '.join(output_words)\n",
        "        print('<', output_sentence)\n",
        "        print('')"
      ]
    },
    {
      "cell_type": "markdown",
      "metadata": {
        "id": "d-2K68Ipobk4"
      },
      "source": [
        "## **6. Bringing them all**\n",
        "Below, you can train your model with some parameters. This code will take ~one hour without GPU."
      ]
    },
    {
      "cell_type": "code",
      "execution_count": 36,
      "metadata": {
        "colab": {
          "base_uri": "https://localhost:8080/"
        },
        "id": "zMABrZWBoZk_",
        "outputId": "99ef003c-8fc2-418c-8f5a-49d806d8f7fe"
      },
      "outputs": [
        {
          "output_type": "stream",
          "name": "stdout",
          "text": [
            "Reading lines...\n",
            "Read 145105 sentence pairs\n",
            "Trimmed to 12364 sentence pairs\n",
            "Counting words...\n",
            "Counted words:\n",
            "tur 8540\n",
            "eng 3551\n",
            "0m 52s (- 13m 13s) (5 6%) 1.2511\n",
            "1m 40s (- 11m 42s) (10 12%) 0.3635\n",
            "2m 27s (- 10m 39s) (15 18%) 0.1064\n",
            "3m 15s (- 9m 45s) (20 25%) 0.0620\n",
            "4m 2s (- 8m 54s) (25 31%) 0.0525\n",
            "4m 49s (- 8m 3s) (30 37%) 0.0476\n",
            "5m 37s (- 7m 13s) (35 43%) 0.0452\n",
            "6m 24s (- 6m 24s) (40 50%) 0.0424\n",
            "7m 11s (- 5m 35s) (45 56%) 0.0411\n",
            "7m 58s (- 4m 47s) (50 62%) 0.0406\n",
            "8m 46s (- 3m 59s) (55 68%) 0.0390\n",
            "9m 33s (- 3m 11s) (60 75%) 0.0391\n",
            "10m 20s (- 2m 23s) (65 81%) 0.0380\n",
            "11m 7s (- 1m 35s) (70 87%) 0.0372\n",
            "11m 54s (- 0m 47s) (75 93%) 0.0370\n",
            "12m 41s (- 0m 0s) (80 100%) 0.0365\n"
          ]
        }
      ],
      "source": [
        "# Do not change\n",
        "hidden_size = 256\n",
        "batch_size = 32\n",
        "epoch = 80\n",
        "\n",
        "input_lang, output_lang, train_dataloader = get_dataloader(batch_size)\n",
        "\n",
        "encoder = EncoderRNN(input_lang.n_words, hidden_size).to(device)\n",
        "decoder = AttnDecoderRNN(hidden_size, output_lang.n_words).to(device)\n",
        "\n",
        "train(train_dataloader, encoder, decoder, epoch, print_every=5)"
      ]
    },
    {
      "cell_type": "markdown",
      "metadata": {
        "id": "XcmxCXMRgPas"
      },
      "source": [
        "```\n",
        "Reading lines...\n",
        "Read 145105 sentence pairs\n",
        "Trimmed to 12364 sentence pairs\n",
        "Counting words...\n",
        "Counted words:\n",
        "eng 8540\n",
        "tur 3551\n",
        "3m 47s (- 56m 58s) (5 6%) 1.6123\n",
        "7m 30s (- 52m 32s) (10 12%) 0.8884\n",
        "11m 10s (- 48m 25s) (15 18%) 0.5546\n",
        "14m 49s (- 44m 28s) (20 25%) 0.3484\n",
        "18m 26s (- 40m 34s) (25 31%) 0.2207\n",
        "22m 5s (- 36m 49s) (30 37%) 0.1458\n",
        "25m 49s (- 33m 12s) (35 43%) 0.1043\n",
        "29m 33s (- 29m 33s) (40 50%) 0.0800\n",
        "33m 19s (- 25m 55s) (45 56%) 0.0670\n",
        "37m 2s (- 22m 13s) (50 62%) 0.0588\n",
        "40m 43s (- 18m 30s) (55 68%) 0.0522\n",
        "44m 22s (- 14m 47s) (60 75%) 0.0482\n",
        "48m 1s (- 11m 5s) (65 81%) 0.0450\n",
        "51m 35s (- 7m 22s) (70 87%) 0.0426\n",
        "55m 15s (- 3m 41s) (75 93%) 0.0416\n",
        "58m 51s (- 0m 0s) (80 100%) 0.0393\n",
        "```\n",
        "\n"
      ]
    },
    {
      "cell_type": "code",
      "execution_count": 37,
      "metadata": {
        "colab": {
          "base_uri": "https://localhost:8080/"
        },
        "id": "OGqNFNiCuJeL",
        "outputId": "2fcaa757-2c5a-4e0e-9e95-994a37e7e7f5"
      },
      "outputs": [
        {
          "output_type": "stream",
          "name": "stdout",
          "text": [
            "> yalnız olamazsın .\n",
            "= you won't be alone .\n",
            "< you won't be alone .\n",
            "\n",
            "> kazanmana izin verdim .\n",
            "= i let you win .\n",
            "< i let you win .\n",
            "\n",
            "> tom paramı aldı .\n",
            "= tom took my money .\n",
            "< tom took my money .\n",
            "\n",
            "> tom'u yalnız bıraktım .\n",
            "= i left tom alone .\n",
            "< i left tom alone .\n",
            "\n",
            "> ceneni kapa ve yemek ye .\n",
            "= shut up and eat .\n",
            "< shut up .\n",
            "\n",
            "> sıkıldım .\n",
            "= i was bored .\n",
            "< i was bored .\n",
            "\n",
            "> yasayı cignedin .\n",
            "= you broke the law .\n",
            "< you broke the law .\n",
            "\n",
            "> sen de mi gidiyorsun ?\n",
            "= are you going, too ?\n",
            "< are you going, too ?\n",
            "\n",
            "> ben gercekten zenginim .\n",
            "= i'm really rich .\n",
            "< i'm really rich .\n",
            "\n",
            "> onu yakala !\n",
            "= catch him .\n",
            "< grab him .\n",
            "\n"
          ]
        }
      ],
      "source": [
        "encoder.eval()\n",
        "decoder.eval()\n",
        "evaluateRandomly(encoder, decoder)"
      ]
    },
    {
      "cell_type": "markdown",
      "metadata": {
        "id": "L4UhteA2mC13"
      },
      "source": [
        "### **6.1. Visualizing attention**"
      ]
    },
    {
      "cell_type": "markdown",
      "metadata": {
        "id": "i7Kd5hxLmJ1r"
      },
      "source": [
        "Indeed, the **interpretability of the attention** mechanism is a valuable property. Since it assigns weights to specific encoder outputs of the input sequence, we can visualize where the network is focused most at each time step.\n",
        "\n",
        "To display the attention output as a matrix, you can simply run `plt.matshow(attentions)`. For a clearer viewing experience, we'll put in the extra effort of adding axes and labels:"
      ]
    },
    {
      "cell_type": "code",
      "execution_count": 38,
      "metadata": {
        "colab": {
          "base_uri": "https://localhost:8080/",
          "height": 1000
        },
        "id": "0kkzzcM5uUe7",
        "outputId": "bcbff340-c61b-42a4-f6f7-c7fed3f2a6e2"
      },
      "outputs": [
        {
          "output_type": "stream",
          "name": "stdout",
          "text": [
            "input = burada tamamen yalnızım\n",
            "output = i'm all here alone here .\n"
          ]
        },
        {
          "output_type": "stream",
          "name": "stderr",
          "text": [
            "<ipython-input-38-83392b226bd2>:10: UserWarning: set_ticklabels() should only be used with a fixed number of ticks, i.e. after set_ticks() or using a FixedLocator.\n",
            "  ax.set_xticklabels([''] + input_sentence.split(' ') +\n",
            "<ipython-input-38-83392b226bd2>:12: UserWarning: set_ticklabels() should only be used with a fixed number of ticks, i.e. after set_ticks() or using a FixedLocator.\n",
            "  ax.set_yticklabels([''] + output_words)\n"
          ]
        },
        {
          "output_type": "display_data",
          "data": {
            "text/plain": [
              "<Figure size 640x480 with 2 Axes>"
            ],
            "image/png": "[encoded data removed]"
          },
          "metadata": {}
        },
        {
          "output_type": "stream",
          "name": "stdout",
          "text": [
            "input = notu okudum\n",
            "output = i read the note age ?\n"
          ]
        },
        {
          "output_type": "stream",
          "name": "stderr",
          "text": [
            "<ipython-input-38-83392b226bd2>:10: UserWarning: set_ticklabels() should only be used with a fixed number of ticks, i.e. after set_ticks() or using a FixedLocator.\n",
            "  ax.set_xticklabels([''] + input_sentence.split(' ') +\n",
            "<ipython-input-38-83392b226bd2>:12: UserWarning: set_ticklabels() should only be used with a fixed number of ticks, i.e. after set_ticks() or using a FixedLocator.\n",
            "  ax.set_yticklabels([''] + output_words)\n"
          ]
        },
        {
          "output_type": "display_data",
          "data": {
            "text/plain": [
              "<Figure size 640x480 with 2 Axes>"
            ],
            "image/png": "[encoded data removed]"
          },
          "metadata": {}
        },
        {
          "output_type": "stream",
          "name": "stdout",
          "text": [
            "input = yardım ister misin\n",
            "output = do you want us work .\n"
          ]
        },
        {
          "output_type": "stream",
          "name": "stderr",
          "text": [
            "<ipython-input-38-83392b226bd2>:10: UserWarning: set_ticklabels() should only be used with a fixed number of ticks, i.e. after set_ticks() or using a FixedLocator.\n",
            "  ax.set_xticklabels([''] + input_sentence.split(' ') +\n",
            "<ipython-input-38-83392b226bd2>:12: UserWarning: set_ticklabels() should only be used with a fixed number of ticks, i.e. after set_ticks() or using a FixedLocator.\n",
            "  ax.set_yticklabels([''] + output_words)\n"
          ]
        },
        {
          "output_type": "display_data",
          "data": {
            "text/plain": [
              "<Figure size 640x480 with 2 Axes>"
            ],
            "image/png": "[encoded data removed]"
          },
          "metadata": {}
        },
        {
          "output_type": "stream",
          "name": "stdout",
          "text": [
            "input = cok mutluyuz\n",
            "output = we're very happy .\n"
          ]
        },
        {
          "output_type": "stream",
          "name": "stderr",
          "text": [
            "<ipython-input-38-83392b226bd2>:10: UserWarning: set_ticklabels() should only be used with a fixed number of ticks, i.e. after set_ticks() or using a FixedLocator.\n",
            "  ax.set_xticklabels([''] + input_sentence.split(' ') +\n",
            "<ipython-input-38-83392b226bd2>:12: UserWarning: set_ticklabels() should only be used with a fixed number of ticks, i.e. after set_ticks() or using a FixedLocator.\n",
            "  ax.set_yticklabels([''] + output_words)\n"
          ]
        },
        {
          "output_type": "display_data",
          "data": {
            "text/plain": [
              "<Figure size 640x480 with 2 Axes>"
            ],
            "image/png": "[encoded data removed]"
          },
          "metadata": {}
        }
      ],
      "source": [
        "%matplotlib inline\n",
        "\n",
        "def showAttention(input_sentence, output_words, attentions):\n",
        "    fig = plt.figure()\n",
        "    ax = fig.add_subplot(111)\n",
        "    cax = ax.matshow(attentions.cpu().numpy(), cmap='bone')\n",
        "    fig.colorbar(cax)\n",
        "\n",
        "    # Set up axes\n",
        "    ax.set_xticklabels([''] + input_sentence.split(' ') +\n",
        "                       ['<EOS>'], rotation=90)\n",
        "    ax.set_yticklabels([''] + output_words)\n",
        "\n",
        "    # Show label at every tick\n",
        "    ax.xaxis.set_major_locator(ticker.MultipleLocator(1))\n",
        "    ax.yaxis.set_major_locator(ticker.MultipleLocator(1))\n",
        "\n",
        "    plt.show()\n",
        "\n",
        "\n",
        "def evaluateAndShowAttention(input_sentence):\n",
        "    output_words, attentions = evaluate(encoder, decoder, input_sentence, input_lang, output_lang)\n",
        "    print('input =', input_sentence)\n",
        "    print('output =', ' '.join(output_words))\n",
        "    showAttention(input_sentence, output_words, attentions[0, :len(output_words), :])\n",
        "\n",
        "\n",
        "evaluateAndShowAttention('burada tamamen yalnızım')\n",
        "\n",
        "evaluateAndShowAttention('notu okudum')\n",
        "\n",
        "evaluateAndShowAttention('yardım ister misin')\n",
        "\n",
        "evaluateAndShowAttention(\"cok mutluyuz\")"
      ]
    },
    {
      "cell_type": "markdown",
      "metadata": {
        "id": "e0wFiRlkT15Q"
      },
      "source": [
        "### **6.2. Bilingual Evaluation Understudy (BLEU) Score**"
      ]
    },
    {
      "cell_type": "markdown",
      "metadata": {
        "id": "L8QEi_xPT15Q"
      },
      "source": [
        "BLEU score provides a practical and interpretable way to evaluate the quality of sequence generation, particularly in machine translation. Since it compares the n-grams of the model output against reference translations, it allows us to quantify how closely the generated sentence aligns with human language at multiple levels of granularity.\n",
        "\n",
        "While BLEU is a scalar metric, it reflects several translation aspects simultaneously such as adequacy, word choice, and partial fluency through n-gram precision and brevity adjustments. This makes it an informative diagnostic tool for model quality across epochs or between architectural variants (e.g., with and without attention).\n",
        "\n",
        "To assess translation performance with BLEU, we print the score for individual sentence pairs and calculate the average BLEU score over a set of examples. This helps identify systematic errors such as missing content, unnatural phrasing, or incorrect word order.\n",
        "\n",
        "Though not directly visual like attention heatmaps, BLEU complements attention analysis by offering a numerical lens into output accuracy. Together, they provide both localized (per-token) and holistic (per-sequence) insights into model behavior.\n",
        "\n",
        "If you're interested, consider reading this paper before getting started: https://aclanthology.org/W14-3346.pdf\n"
      ]
    },
    {
      "cell_type": "code",
      "execution_count": 39,
      "metadata": {
        "colab": {
          "base_uri": "https://localhost:8080/"
        },
        "id": "a_9sPxnTmjnP",
        "outputId": "b72cfcbe-def3-4014-a3cc-252110fae231"
      },
      "outputs": [
        {
          "output_type": "stream",
          "name": "stderr",
          "text": [
            "[nltk_data] Downloading package punkt to /root/nltk_data...\n",
            "[nltk_data]   Unzipping tokenizers/punkt.zip.\n"
          ]
        }
      ],
      "source": [
        "import nltk\n",
        "nltk.download('punkt')\n",
        "from nltk.translate.bleu_score import sentence_bleu, SmoothingFunction\n",
        "\n",
        "def compute_bleu(reference, hypothesis):\n",
        "    ### START YOUR CODE HERE ###\n",
        "    reference_tokens = [reference.split()]\n",
        "    hypothesis_tokens = hypothesis.split()\n",
        "    smoothie = SmoothingFunction().method4\n",
        "    return sentence_bleu(reference_tokens, hypothesis_tokens, smoothing_function=smoothie)\n",
        "    ### END YOUR CODE HERE ###\n",
        "\n",
        "#You can change sample size(n) for additional experiments (Default n = 10)\n",
        "def evaluate_bleu_score(pairs, encoder, decoder, input_lang, output_lang, n=10):\n",
        "    scores = []\n",
        "    for i in range(n):\n",
        "        pair = random.choice(pairs)\n",
        "        ### START YOUR CODE HERE ###\n",
        "        input_sentence = pair[0]\n",
        "        target_sentence = pair[1]\n",
        "\n",
        "        output_words, _ = evaluate(encoder, decoder, input_sentence, input_lang, output_lang)\n",
        "        predicted_sentence = ' '.join(output_words)\n",
        "\n",
        "        bleu = compute_bleu(target_sentence, predicted_sentence)\n",
        "        scores.append(bleu)\n",
        "\n",
        "        print(f\"Input    : {input_sentence}\")\n",
        "        print(f\"Target   : {target_sentence}\")\n",
        "        print(f\"Predicted: {predicted_sentence}\")\n",
        "        print(f\"BLEU     : {bleu:.4f}\")\n",
        "        print(\"-\" * 50)\n",
        "        ### END YOUR CODE HERE ###\n",
        "    print(f\"Average BLEU Score over {n} samples: {sum(scores)/n:.4f}\")"
      ]
    },
    {
      "cell_type": "code",
      "execution_count": 40,
      "metadata": {
        "colab": {
          "base_uri": "https://localhost:8080/"
        },
        "id": "whzxXDi8T15R",
        "outputId": "5c00be62-ed63-4a08-f71d-f1774b8d78e5"
      },
      "outputs": [
        {
          "output_type": "stream",
          "name": "stdout",
          "text": [
            "Input    : cok mu fazlaydı ?\n",
            "Target   : was that too much ?\n",
            "Predicted: was that too much ?\n",
            "BLEU     : 1.0000\n",
            "--------------------------------------------------\n",
            "Input    : onu gormedim .\n",
            "Target   : i haven't seen him .\n",
            "Predicted: i haven't seen him .\n",
            "BLEU     : 1.0000\n",
            "--------------------------------------------------\n",
            "Input    : atına bin .\n",
            "Target   : get on your horse .\n",
            "Predicted: get on your horse .\n",
            "BLEU     : 1.0000\n",
            "--------------------------------------------------\n",
            "Input    : sadece tom geldi .\n",
            "Target   : only tom came .\n",
            "Predicted: tom came .\n",
            "BLEU     : 0.4125\n",
            "--------------------------------------------------\n",
            "Input    : herkes orada .\n",
            "Target   : everybody is there .\n",
            "Predicted: everyone's there .\n",
            "BLEU     : 0.1517\n",
            "--------------------------------------------------\n",
            "Input    : herkes hazır mı ?\n",
            "Target   : is everyone ready ?\n",
            "Predicted: is everybody ready ?\n",
            "BLEU     : 0.1862\n",
            "--------------------------------------------------\n",
            "Input    : tom biraz cakırkeyf .\n",
            "Target   : tom is a bit tipsy .\n",
            "Predicted: tom is a bit tipsy .\n",
            "BLEU     : 1.0000\n",
            "--------------------------------------------------\n",
            "Input    : bırak da isimizi yapalım .\n",
            "Target   : let us do our job .\n",
            "Predicted: let us do .\n",
            "BLEU     : 0.2812\n",
            "--------------------------------------------------\n",
            "Input    : bir planım vardı .\n",
            "Target   : i had a plan .\n",
            "Predicted: i had a plan .\n",
            "BLEU     : 1.0000\n",
            "--------------------------------------------------\n",
            "Input    : cekicisin .\n",
            "Target   : you're charming .\n",
            "Predicted: you're charming .\n",
            "BLEU     : 0.5757\n",
            "--------------------------------------------------\n",
            "Average BLEU Score over 10 samples: 0.6607\n"
          ]
        }
      ],
      "source": [
        "evaluate_bleu_score(pairs, encoder, decoder, input_lang, output_lang, n=10)"
      ]
    },
    {
      "cell_type": "markdown",
      "metadata": {
        "id": "PmtO6ekBT15R"
      },
      "source": [
        "### **7. Training the Same Network Without Attention**\n",
        "In this section, we train a simplified version of the sequence-to-sequence model without any attention mechanism. This variant serves as a baseline to help understand the contribution of attention to translation quality. Please also observe its impact on training time."
      ]
    },
    {
      "cell_type": "code",
      "execution_count": 41,
      "metadata": {
        "colab": {
          "base_uri": "https://localhost:8080/"
        },
        "id": "5ENT1A81T15R",
        "outputId": "4fd89a5d-9680-4d60-ccff-25186c8c68e7"
      },
      "outputs": [
        {
          "output_type": "stream",
          "name": "stdout",
          "text": [
            "Reading lines...\n",
            "Read 145105 sentence pairs\n",
            "Trimmed to 12364 sentence pairs\n",
            "Counting words...\n",
            "Counted words:\n",
            "tur 8540\n",
            "eng 3551\n"
          ]
        }
      ],
      "source": [
        "#Do not change\n",
        "hidden_size = 256\n",
        "batch_size = 32\n",
        "epoch = 80\n",
        "\n",
        "### START YOUR CODE HERE ###\n",
        "input_lang, output_lang, train_dataloader = get_dataloader(batch_size)\n",
        "\n",
        "encoder = EncoderRNN(input_lang.n_words, hidden_size).to(device)\n",
        "decoder_no_attn = DecoderRNN(hidden_size, output_lang.n_words).to(device)\n",
        "\n",
        "train(train_dataloader, encoder, decoder_no_attn, n_epochs=epoch)\n",
        "### END YOUR CODE HERE ###\n"
      ]
    },
    {
      "cell_type": "code",
      "execution_count": 42,
      "metadata": {
        "colab": {
          "base_uri": "https://localhost:8080/"
        },
        "id": "y63K0YSkT15R",
        "outputId": "087406b0-6e39-499f-cc4f-6d3adb023a58"
      },
      "outputs": [
        {
          "output_type": "stream",
          "name": "stdout",
          "text": [
            "> tom yakında doner .\n",
            "= tom won't be long .\n",
            "< tom won't be long .\n",
            "\n",
            "> tom kacmadı .\n",
            "= tom didn't run .\n",
            "< tom didn't run .\n",
            "\n",
            "> bekle ve gor .\n",
            "= wait and see .\n",
            "< wait and see .\n",
            "\n",
            "> agır oldugunu biliyorum .\n",
            "= i know it's heavy .\n",
            "< i know it's heavy .\n",
            "\n",
            "> onu simdi istiyorum .\n",
            "= i want it now .\n",
            "< i want it now .\n",
            "\n",
            "> cok guzel, degil mi ?\n",
            "= isn't that cool ?\n",
            "< isn't that .\n",
            "\n",
            "> dilegim kabul oldu .\n",
            "= i got my wish .\n",
            "< my heart .\n",
            "\n",
            "> bu yurek gerektirir .\n",
            "= that takes guts .\n",
            "< that takes .\n",
            "\n",
            "> cok ballısın .\n",
            "= you're very lucky .\n",
            "< you're very lucky .\n",
            "\n",
            "> idealistim .\n",
            "= i'm an idealist .\n",
            "< i'm an idealist .\n",
            "\n"
          ]
        }
      ],
      "source": [
        "encoder.eval()\n",
        "decoder_no_attn.eval()\n",
        "evaluateRandomly(encoder, decoder_no_attn)"
      ]
    },
    {
      "cell_type": "code",
      "execution_count": 43,
      "metadata": {
        "colab": {
          "base_uri": "https://localhost:8080/"
        },
        "id": "uK6nxmCLT15R",
        "outputId": "5b6ccbf4-b1ba-4572-8037-c778c636a782"
      },
      "outputs": [
        {
          "output_type": "stream",
          "name": "stdout",
          "text": [
            "Input    : bir soda istiyor musunuz ?\n",
            "Target   : do you want a soda ?\n",
            "Predicted: do you want a soda ?\n",
            "BLEU     : 1.0000\n",
            "--------------------------------------------------\n",
            "Input    : tom mutlu degildi .\n",
            "Target   : tom wasn't happy .\n",
            "Predicted: tom was not happy .\n",
            "BLEU     : 0.1341\n",
            "--------------------------------------------------\n",
            "Input    : ben teslim oluyorum .\n",
            "Target   : i surrender .\n",
            "Predicted: i surrender .\n",
            "BLEU     : 0.5757\n",
            "--------------------------------------------------\n",
            "Input    : tom cok usuttu .\n",
            "Target   : tom got very cold .\n",
            "Predicted: tom got young .\n",
            "BLEU     : 0.1450\n",
            "--------------------------------------------------\n",
            "Input    : kimse boyle yapmıyor .\n",
            "Target   : no one does that .\n",
            "Predicted: nobody does that .\n",
            "BLEU     : 0.3360\n",
            "--------------------------------------------------\n",
            "Input    : herhangi birisine ates etmeyin .\n",
            "Target   : don't fire anyone .\n",
            "Predicted: don't fire anyone .\n",
            "BLEU     : 1.0000\n",
            "--------------------------------------------------\n",
            "Input    : tom saatini kaybetmis .\n",
            "Target   : tom lost his watch .\n",
            "Predicted: tom lost the money .\n",
            "BLEU     : 0.1341\n",
            "--------------------------------------------------\n",
            "Input    : havaalanındayım .\n",
            "Target   : i'm at the airport .\n",
            "Predicted: i'm at the airport .\n",
            "BLEU     : 1.0000\n",
            "--------------------------------------------------\n",
            "Input    : daha fazla bira ic .\n",
            "Target   : drink more beer .\n",
            "Predicted: drink more .\n",
            "BLEU     : 0.1679\n",
            "--------------------------------------------------\n",
            "Input    : ben bir erkegim .\n",
            "Target   : i am a man .\n",
            "Predicted: i'm a man .\n",
            "BLEU     : 0.3360\n",
            "--------------------------------------------------\n",
            "Average BLEU Score over 10 samples: 0.4829\n"
          ]
        }
      ],
      "source": [
        "evaluate_bleu_score(pairs, encoder, decoder_no_attn, input_lang, output_lang, n=10)"
      ]
    },
    {
      "cell_type": "markdown",
      "metadata": {
        "id": "G3UqyJ_jT15S"
      },
      "source": [
        "### **8. Implementation Review**\n",
        "You are required to carefully read and understand the following paper before starting this part:\n",
        "\n",
        "Bahdanau et al. (2015) Neural Machine Translation by Jointly Learning to Align and Translate\n",
        "https://arxiv.org/pdf/1409.0473\n",
        "\n",
        "Is your implementation architecturally and functionally identical to the model proposed by Bahdanau et al. (2015)?\n",
        "\n",
        "If yes, justify your answer with detailed references to the architecture in the original paper.\n",
        "\n",
        "If no, identify and explain the key differences between your implementation and the original model, in terms of encoder configuration, attention mechanism and alignment scoring, decoder context integration and behavior etc.\n",
        "\n",
        "For each identified difference, you must provide clear justification with direct references to the corresponding sections, equations, or architectural diagrams in the Bahdanau et al. (2015) paper.\n",
        "\n",
        "After identifying these differences, re-implement the relevant components in accordance with the original model as described in the paper. Then, provide a comparison between your original model and the re-implementation using evaluation metrics such as BLEU score and attention visualization.\n",
        "\n",
        "** Make modifications and additions of your implemented model in previous sections. A code with different logical flow or structure will not be evaluated."
      ]
    },
    {
      "cell_type": "markdown",
      "metadata": {
        "id": "0HiSLGg3T15S"
      },
      "source": [
        "**Answer**\n",
        "\n",
        "While reviewing the current implementation, I noticed several important differences compared to the original attention mechanism proposed by Bahdanau et al. (2015).\n",
        "\n",
        "To start, the original paper introduces a soft attention mechanism, where a unique context vector is calculated at every decoding step by taking a weighted sum over all the encoder’s hidden states (Section 3.1, Equations (5) and (6), Pages 3–4). In the code I reviewed, however, it’s not clear whether this dynamic step happens at each timestep—particularly during training and evaluation. If the context vector isn’t recomputed at every step, that would be a major deviation from the original method.\n",
        "\n",
        "Another key aspect from the paper is the alignment model. Bahdanau et al. use a small feedforward neural network to score how well each encoder hidden state aligns with the decoder’s previous hidden state. These scores are then turned into attention weights using softmax (Equation (6), Page 4). In contrast, the current implementation seems to skip this by using encoder outputs directly, without a learned alignment function—which means the model lacks a core trainable component of the original approach.\n",
        "\n",
        "Additionally, the decoder in the original paper is supposed to take three inputs at each step: the previous target word, the previous hidden state, and the context vector (Section 3.1, Page 4). However, in the current implementation (especially in the train_epoch() function), the entire target sequence is passed in at once—likely with teacher forcing—without clearly showing that a new context vector is computed for each step. This again departs from the step-by-step attention process described in the paper.\n",
        "\n",
        "Overall, the implementation misses several essential features of the original Bahdanau attention model, including dynamic attention at each timestep, a trainable alignment layer, and a bidirectional encoder. These components are fundamental to how the original model works and performs."
      ]
    },
    {
      "cell_type": "code",
      "source": [
        "class EncoderRNN(nn.Module):\n",
        "    def __init__(self, input_size, hidden_size, dropout_p=0.1):\n",
        "        super(EncoderRNN, self).__init__()\n",
        "        self.hidden_size = hidden_size\n",
        "        self.embedding = nn.Embedding(input_size, hidden_size)\n",
        "        self.dropout = nn.Dropout(dropout_p)\n",
        "        self.gru = nn.GRU(hidden_size, hidden_size, bidirectional=True, batch_first=True)\n",
        "\n",
        "    def forward(self, input):\n",
        "        embedded = self.dropout(self.embedding(input))\n",
        "        outputs, hidden = self.gru(embedded)\n",
        "        outputs = outputs[:, :, :self.hidden_size] + outputs[:, :, self.hidden_size:]\n",
        "        return outputs, hidden"
      ],
      "metadata": {
        "id": "E2DlbYR2xCxO"
      },
      "execution_count": 67,
      "outputs": []
    },
    {
      "cell_type": "code",
      "execution_count": 68,
      "metadata": {
        "id": "AoxJQ6ImT15S"
      },
      "outputs": [],
      "source": [
        "class AdditiveAttention(nn.Module):\n",
        "    def __init__(self, hidden_size):\n",
        "        super(AdditiveAttention, self).__init__()\n",
        "        self.Wa = nn.Linear(hidden_size, hidden_size)\n",
        "        self.Ua = nn.Linear(hidden_size, hidden_size)\n",
        "        self.Va = nn.Linear(hidden_size, 1)\n",
        "\n",
        "    def forward(self, query, keys, mask=None):\n",
        "        scores = self.Va(torch.tanh(self.Wa(keys) + self.Ua(query)))  # (batch, seq_len, 1)\n",
        "        scores = scores.squeeze(2).unsqueeze(1)  # (batch, 1, seq_len)\n",
        "        if mask is not None:\n",
        "            scores = scores.masked_fill(mask == 0, -1e9)\n",
        "        weights = F.softmax(scores, dim=-1)  # (batch, 1, seq_len)\n",
        "        context = torch.bmm(weights, keys)  # (batch, 1, hidden)\n",
        "        return context, weights"
      ]
    },
    {
      "cell_type": "code",
      "execution_count": 69,
      "metadata": {
        "id": "UwrO0CLPT15S"
      },
      "outputs": [],
      "source": [
        "class AttnDecoderRNN(nn.Module):\n",
        "    def __init__(self, hidden_size, output_size, dropout_p=0.1):\n",
        "        super(AttnDecoderRNN, self).__init__()\n",
        "        self.hidden_size = hidden_size\n",
        "        self.embedding = nn.Embedding(output_size, hidden_size)\n",
        "        self.dropout = nn.Dropout(dropout_p)\n",
        "        self.attention = AdditiveAttention(hidden_size)\n",
        "        self.gru = nn.GRU(hidden_size * 2, hidden_size, batch_first=True)\n",
        "        self.out = nn.Linear(hidden_size, output_size)\n",
        "\n",
        "    def forward_step(self, input, hidden, encoder_outputs, mask):\n",
        "        embedded = self.dropout(self.embedding(input))            # (batch, 1, hidden)\n",
        "        query = hidden.permute(1, 0, 2)                           # (batch, 1, hidden)\n",
        "        context, attn_weights = self.attention(query, encoder_outputs, mask)\n",
        "        input_gru = torch.cat([embedded, context], dim=2)         # (batch, 1, 2*hidden)\n",
        "        output, hidden = self.gru(input_gru, hidden)\n",
        "        output = self.out(output)                                 # (batch, 1, output_size)\n",
        "        return output, hidden, attn_weights\n",
        "\n",
        "    def forward(self, encoder_outputs, encoder_hidden, target_tensor=None, teacher_forcing_ratio=0.5, mask=None):\n",
        "        batch_size = encoder_outputs.size(0)\n",
        "        decoder_input = torch.full((batch_size, 1), SOS_token, dtype=torch.long, device=device)\n",
        "        decoder_hidden = torch.zeros(1, batch_size, self.hidden_size, device=device)\n",
        "\n",
        "        decoder_outputs = []\n",
        "        attentions = []\n",
        "\n",
        "        for i in range(MAX_LENGTH):\n",
        "            decoder_output, decoder_hidden, attn_weights = self.forward_step(\n",
        "                decoder_input, decoder_hidden, encoder_outputs, mask)\n",
        "            decoder_outputs.append(decoder_output)\n",
        "            attentions.append(attn_weights)\n",
        "\n",
        "            use_teacher_forcing = target_tensor is not None and random.random() < teacher_forcing_ratio\n",
        "            if use_teacher_forcing:\n",
        "                decoder_input = target_tensor[:, i].unsqueeze(1)\n",
        "            else:\n",
        "                top1 = decoder_output.topk(1)[1]\n",
        "                decoder_input = top1.squeeze(-1).detach()\n",
        "\n",
        "        decoder_outputs = torch.cat(decoder_outputs, dim=1)\n",
        "        decoder_outputs = F.log_softmax(decoder_outputs, dim=-1)\n",
        "        attentions = torch.cat(attentions, dim=1)\n",
        "        return decoder_outputs, decoder_hidden, attentions"
      ]
    },
    {
      "cell_type": "code",
      "source": [
        "def indexesFromSentence(lang, sentence):\n",
        "    return [lang.word2index[word] for word in sentence.split(' ')]\n",
        "\n",
        "def tensorFromSentence(lang, sentence):\n",
        "    indexes = indexesFromSentence(lang, sentence)\n",
        "    indexes.append(EOS_token)\n",
        "    return torch.tensor(indexes, dtype=torch.long, device=device).view(1, -1)\n",
        "\n",
        "def tensorsFromPair(pair):\n",
        "    input_tensor = tensorFromSentence(input_lang, pair[0])\n",
        "    target_tensor = tensorFromSentence(output_lang, pair[1])\n",
        "    return (input_tensor, target_tensor)\n",
        "\n",
        "def get_dataloader(batch_size):\n",
        "    input_lang, output_lang, pairs = prepareData('eng', 'tur', 0.1, True)\n",
        "    n = len(pairs)\n",
        "    input_ids = np.zeros((n, MAX_LENGTH), dtype=np.int32)\n",
        "    target_ids = np.zeros((n, MAX_LENGTH), dtype=np.int32)\n",
        "\n",
        "    for idx, (inp, tgt) in enumerate(pairs):\n",
        "        inp_ids = indexesFromSentence(input_lang, inp)\n",
        "        tgt_ids = indexesFromSentence(output_lang, tgt)\n",
        "        inp_ids.append(EOS_token)\n",
        "        tgt_ids.append(EOS_token)\n",
        "        input_ids[idx, :len(inp_ids)] = inp_ids\n",
        "        target_ids[idx, :len(tgt_ids)] = tgt_ids\n",
        "\n",
        "    train_data = TensorDataset(torch.LongTensor(input_ids).to(device),\n",
        "                               torch.LongTensor(target_ids).to(device))\n",
        "    train_sampler = RandomSampler(train_data)\n",
        "    train_dataloader = DataLoader(train_data, sampler=train_sampler, batch_size=batch_size)\n",
        "    return input_lang, output_lang, train_dataloader\n"
      ],
      "metadata": {
        "id": "hlqubsK3yvKG"
      },
      "execution_count": 84,
      "outputs": []
    },
    {
      "cell_type": "code",
      "source": [
        "def train_epoch(dataloader, encoder, decoder, encoder_optimizer, decoder_optimizer, criterion):\n",
        "    total_loss = 0\n",
        "    for data in dataloader:\n",
        "        input_tensor, target_tensor = data\n",
        "\n",
        "        encoder_optimizer.zero_grad()\n",
        "        decoder_optimizer.zero_grad()\n",
        "\n",
        "        encoder_outputs, encoder_hidden = encoder(input_tensor)\n",
        "        decoder_outputs, _, _ = decoder(encoder_outputs, encoder_hidden, target_tensor)\n",
        "\n",
        "        loss = criterion(\n",
        "            decoder_outputs.view(-1, decoder_outputs.size(-1)),\n",
        "            target_tensor.view(-1)\n",
        "        )\n",
        "        loss.backward()\n",
        "\n",
        "        encoder_optimizer.step()\n",
        "        decoder_optimizer.step()\n",
        "\n",
        "        total_loss += loss.item()\n",
        "\n",
        "    return total_loss / len(dataloader)\n"
      ],
      "metadata": {
        "id": "Sgm8vTzuyxCn"
      },
      "execution_count": 85,
      "outputs": []
    },
    {
      "cell_type": "code",
      "source": [
        "import time\n",
        "import math\n",
        "\n",
        "def asMinutes(s):\n",
        "    m = math.floor(s / 60)\n",
        "    s -= m * 60\n",
        "    return '%dm %ds' % (m, s)\n",
        "\n",
        "def timeSince(since, percent):\n",
        "    now = time.time()\n",
        "    s = now - since\n",
        "    es = s / (percent)\n",
        "    rs = es - s\n",
        "    return '%s (- %s)' % (asMinutes(s), asMinutes(rs))"
      ],
      "metadata": {
        "id": "yRKo0n8ty297"
      },
      "execution_count": 86,
      "outputs": []
    },
    {
      "cell_type": "code",
      "source": [
        "def train(train_dataloader, encoder, decoder, n_epochs, learning_rate=0.001, print_every=100, plot_every=100):\n",
        "    start = time.time()\n",
        "    plot_losses = []\n",
        "    print_loss_total = 0\n",
        "    plot_loss_total = 0\n",
        "\n",
        "    encoder_optimizer = optim.Adam(encoder.parameters(), lr=learning_rate)\n",
        "    decoder_optimizer = optim.Adam(decoder.parameters(), lr=learning_rate)\n",
        "    criterion = nn.NLLLoss()\n",
        "\n",
        "    for epoch in range(1, n_epochs + 1):\n",
        "        loss = train_epoch(train_dataloader, encoder, decoder, encoder_optimizer, decoder_optimizer, criterion)\n",
        "        print_loss_total += loss\n",
        "        plot_loss_total += loss\n",
        "\n",
        "        if epoch % print_every == 0:\n",
        "            print_loss_avg = print_loss_total / print_every\n",
        "            print_loss_total = 0\n",
        "            print('%s (%d %d%%) %.4f' % (timeSince(start, epoch / n_epochs), epoch, epoch / n_epochs * 100, print_loss_avg))\n",
        "\n",
        "        if epoch % plot_every == 0:\n",
        "            plot_loss_avg = plot_loss_total / plot_every\n",
        "            plot_losses.append(plot_loss_avg)\n",
        "            plot_loss_total = 0\n",
        "    showPlot(plot_losses)\n"
      ],
      "metadata": {
        "id": "fAiLXzz41Hzk"
      },
      "execution_count": 87,
      "outputs": []
    },
    {
      "cell_type": "code",
      "source": [
        "import matplotlib.pyplot as plt\n",
        "plt.switch_backend('agg')\n",
        "import matplotlib.ticker as ticker\n",
        "import numpy as np\n",
        "\n",
        "def showPlot(points):\n",
        "    plt.figure()\n",
        "    fig, ax = plt.subplots()\n",
        "    loc = ticker.MultipleLocator(base=0.2)\n",
        "    ax.yaxis.set_major_locator(loc)\n",
        "    plt.plot(points)\n"
      ],
      "metadata": {
        "id": "RHJKzQWp1KQp"
      },
      "execution_count": 88,
      "outputs": []
    },
    {
      "cell_type": "code",
      "source": [
        "hidden_size = 256\n",
        "batch_size = 32\n",
        "epoch = 80\n",
        "\n",
        "input_lang, output_lang, train_dataloader = get_dataloader(batch_size)\n",
        "\n",
        "encoder = EncoderRNN(input_lang.n_words, hidden_size).to(device)\n",
        "decoder = AttnDecoderRNN(hidden_size, output_lang.n_words).to(device)\n",
        "\n",
        "train(train_dataloader, encoder, decoder, epoch, print_every=5)"
      ],
      "metadata": {
        "colab": {
          "base_uri": "https://localhost:8080/"
        },
        "id": "-8SmbahG1Mhu",
        "outputId": "c04d2072-0645-4c8f-9384-76d7b7511036"
      },
      "execution_count": 89,
      "outputs": [
        {
          "output_type": "stream",
          "name": "stdout",
          "text": [
            "Reading lines...\n",
            "Read 145105 sentence pairs\n",
            "Trimmed to 12364 sentence pairs\n",
            "Counting words...\n",
            "Counted words:\n",
            "tur 8540\n",
            "eng 3551\n",
            "0m 52s (- 13m 7s) (5 6%) 1.8390\n",
            "1m 45s (- 12m 16s) (10 12%) 1.0446\n",
            "2m 37s (- 11m 22s) (15 18%) 0.5505\n",
            "3m 29s (- 10m 29s) (20 25%) 0.2687\n",
            "4m 22s (- 9m 36s) (25 31%) 0.1456\n",
            "5m 14s (- 8m 44s) (30 37%) 0.1087\n",
            "6m 7s (- 7m 52s) (35 43%) 0.0936\n",
            "7m 0s (- 7m 0s) (40 50%) 0.0866\n",
            "7m 53s (- 6m 7s) (45 56%) 0.0802\n",
            "8m 45s (- 5m 15s) (50 62%) 0.0780\n",
            "9m 37s (- 4m 22s) (55 68%) 0.0743\n",
            "10m 29s (- 3m 29s) (60 75%) 0.0719\n",
            "11m 22s (- 2m 37s) (65 81%) 0.0714\n",
            "12m 14s (- 1m 44s) (70 87%) 0.0698\n",
            "13m 7s (- 0m 52s) (75 93%) 0.0681\n",
            "13m 59s (- 0m 0s) (80 100%) 0.0671\n"
          ]
        }
      ]
    },
    {
      "cell_type": "code",
      "source": [
        "encoder.eval()\n",
        "decoder.eval()\n",
        "evaluateRandomly(encoder, decoder)"
      ],
      "metadata": {
        "colab": {
          "base_uri": "https://localhost:8080/"
        },
        "id": "9wOz6xqC1PHr",
        "outputId": "f085e59a-e232-43b0-fafd-c0516be09cdf"
      },
      "execution_count": 90,
      "outputs": [
        {
          "output_type": "stream",
          "name": "stdout",
          "text": [
            "> aynısı degil .\n",
            "= it's not the same .\n",
            "< it's not tom's idea .\n",
            "\n",
            "> onu benimle bırak .\n",
            "= leave it with me .\n",
            "< let it with me .\n",
            "\n",
            "> hicbir sey bilmiyorlar .\n",
            "= they know nothing .\n",
            "< they know nothing .\n",
            "\n",
            "> tom pes etti .\n",
            "= tom gave in .\n",
            "< tom gave in beggar .\n",
            "\n",
            "> onu hissedebiliyor musun ?\n",
            "= can you feel it ?\n",
            "< do you feel this ?\n",
            "\n",
            "> sorumu yanıtla !\n",
            "= answer my question .\n",
            "< answer my question low frogs face curry my face pregnant\n",
            "\n",
            "> her sey yolunda mı ?\n",
            "= is everything okay ?\n",
            "< is everything ok ?\n",
            "\n",
            "> biz saglıklı degiliz .\n",
            "= we're not healthy .\n",
            "< we're not healthy .\n",
            "\n",
            "> herkes nereye kayboldu ?\n",
            "= where's everyone ?\n",
            "< where's everyone hidden ?\n",
            "\n",
            "> tom'un iyi bir isi var .\n",
            "= tom has a good job .\n",
            "< tom has a good job .\n",
            "\n"
          ]
        }
      ]
    },
    {
      "cell_type": "code",
      "source": [
        "%matplotlib inline\n",
        "\n",
        "def showAttention(input_sentence, output_words, attentions):\n",
        "    fig = plt.figure()\n",
        "    ax = fig.add_subplot(111)\n",
        "    cax = ax.matshow(attentions.cpu().numpy(), cmap='bone')\n",
        "    fig.colorbar(cax)\n",
        "\n",
        "    ax.set_xticklabels([''] + input_sentence.split(' ') + ['<EOS>'], rotation=90)\n",
        "    ax.set_yticklabels([''] + output_words)\n",
        "\n",
        "    ax.xaxis.set_major_locator(ticker.MultipleLocator(1))\n",
        "    ax.yaxis.set_major_locator(ticker.MultipleLocator(1))\n",
        "    plt.show()\n",
        "\n",
        "def evaluateAndShowAttention(input_sentence):\n",
        "    output_words, attentions = evaluate(encoder, decoder, input_sentence, input_lang, output_lang)\n",
        "    print('input =', input_sentence)\n",
        "    print('output =', ' '.join(output_words))\n",
        "    showAttention(input_sentence, output_words, attentions[0, :len(output_words), :])\n",
        "\n",
        "evaluateAndShowAttention('burada tamamen yalnızım')\n",
        "evaluateAndShowAttention('notu okudum')\n",
        "evaluateAndShowAttention('yardım ister misin')\n",
        "evaluateAndShowAttention('cok mutluyuz')"
      ],
      "metadata": {
        "colab": {
          "base_uri": "https://localhost:8080/",
          "height": 1000
        },
        "id": "5BrNmf4E1ReC",
        "outputId": "92e70632-2e3d-412f-a37a-b47ed1443c7f"
      },
      "execution_count": 91,
      "outputs": [
        {
          "output_type": "stream",
          "name": "stdout",
          "text": [
            "input = burada tamamen yalnızım\n",
            "output = i'm all i here .\n"
          ]
        },
        {
          "output_type": "stream",
          "name": "stderr",
          "text": [
            "<ipython-input-91-9dfb6a647061>:9: UserWarning: set_ticklabels() should only be used with a fixed number of ticks, i.e. after set_ticks() or using a FixedLocator.\n",
            "  ax.set_xticklabels([''] + input_sentence.split(' ') + ['<EOS>'], rotation=90)\n",
            "<ipython-input-91-9dfb6a647061>:10: UserWarning: set_ticklabels() should only be used with a fixed number of ticks, i.e. after set_ticks() or using a FixedLocator.\n",
            "  ax.set_yticklabels([''] + output_words)\n"
          ]
        },
        {
          "output_type": "display_data",
          "data": {
            "text/plain": [
              "<Figure size 640x480 with 0 Axes>"
            ]
          },
          "metadata": {}
        },
        {
          "output_type": "display_data",
          "data": {
            "text/plain": [
              "<Figure size 640x480 with 1 Axes>"
            ],
            "image/png": "[encoded data removed]"
          },
          "metadata": {}
        },
        {
          "output_type": "display_data",
          "data": {
            "text/plain": [
              "<Figure size 640x480 with 2 Axes>"
            ],
            "image/png": "[encoded data removed]"
          },
          "metadata": {}
        },
        {
          "output_type": "stream",
          "name": "stdout",
          "text": [
            "input = notu okudum\n",
            "output = i read i going .\n"
          ]
        },
        {
          "output_type": "stream",
          "name": "stderr",
          "text": [
            "<ipython-input-91-9dfb6a647061>:9: UserWarning: set_ticklabels() should only be used with a fixed number of ticks, i.e. after set_ticks() or using a FixedLocator.\n",
            "  ax.set_xticklabels([''] + input_sentence.split(' ') + ['<EOS>'], rotation=90)\n",
            "<ipython-input-91-9dfb6a647061>:10: UserWarning: set_ticklabels() should only be used with a fixed number of ticks, i.e. after set_ticks() or using a FixedLocator.\n",
            "  ax.set_yticklabels([''] + output_words)\n"
          ]
        },
        {
          "output_type": "display_data",
          "data": {
            "text/plain": [
              "<Figure size 640x480 with 2 Axes>"
            ],
            "image/png": "[encoded data removed]"
          },
          "metadata": {}
        },
        {
          "output_type": "stream",
          "name": "stdout",
          "text": [
            "input = yardım ister misin\n",
            "output = you want help help .\n"
          ]
        },
        {
          "output_type": "stream",
          "name": "stderr",
          "text": [
            "<ipython-input-91-9dfb6a647061>:9: UserWarning: set_ticklabels() should only be used with a fixed number of ticks, i.e. after set_ticks() or using a FixedLocator.\n",
            "  ax.set_xticklabels([''] + input_sentence.split(' ') + ['<EOS>'], rotation=90)\n",
            "<ipython-input-91-9dfb6a647061>:10: UserWarning: set_ticklabels() should only be used with a fixed number of ticks, i.e. after set_ticks() or using a FixedLocator.\n",
            "  ax.set_yticklabels([''] + output_words)\n"
          ]
        },
        {
          "output_type": "display_data",
          "data": {
            "text/plain": [
              "<Figure size 640x480 with 2 Axes>"
            ],
            "image/png": "[encoded data removed]"
          },
          "metadata": {}
        },
        {
          "output_type": "stream",
          "name": "stdout",
          "text": [
            "input = cok mutluyuz\n",
            "output = they're very examine they'll safety rents mahjong safety safety strange,\n"
          ]
        },
        {
          "output_type": "stream",
          "name": "stderr",
          "text": [
            "<ipython-input-91-9dfb6a647061>:9: UserWarning: set_ticklabels() should only be used with a fixed number of ticks, i.e. after set_ticks() or using a FixedLocator.\n",
            "  ax.set_xticklabels([''] + input_sentence.split(' ') + ['<EOS>'], rotation=90)\n",
            "<ipython-input-91-9dfb6a647061>:10: UserWarning: set_ticklabels() should only be used with a fixed number of ticks, i.e. after set_ticks() or using a FixedLocator.\n",
            "  ax.set_yticklabels([''] + output_words)\n"
          ]
        },
        {
          "output_type": "display_data",
          "data": {
            "text/plain": [
              "<Figure size 640x480 with 2 Axes>"
            ],
            "image/png": "[encoded data removed]"
          },
          "metadata": {}
        }
      ]
    },
    {
      "cell_type": "code",
      "source": [
        "# BLEU evaluation\n",
        "import nltk\n",
        "nltk.download('punkt')\n",
        "from nltk.translate.bleu_score import sentence_bleu, SmoothingFunction\n",
        "\n",
        "def compute_bleu(reference, hypothesis):\n",
        "    reference_tokens = [reference.split()]\n",
        "    hypothesis_tokens = hypothesis.split()\n",
        "    smoothie = SmoothingFunction().method4\n",
        "    return sentence_bleu(reference_tokens, hypothesis_tokens, smoothing_function=smoothie)"
      ],
      "metadata": {
        "colab": {
          "base_uri": "https://localhost:8080/"
        },
        "id": "i76N9vju2mtr",
        "outputId": "12e11eff-ca57-4565-b222-eb288f2277bf"
      },
      "execution_count": 92,
      "outputs": [
        {
          "output_type": "stream",
          "name": "stderr",
          "text": [
            "[nltk_data] Downloading package punkt to /root/nltk_data...\n",
            "[nltk_data]   Package punkt is already up-to-date!\n"
          ]
        }
      ]
    },
    {
      "cell_type": "code",
      "source": [
        "def evaluate_bleu_score(pairs, encoder, decoder, input_lang, output_lang, n=10):\n",
        "    scores = []\n",
        "    for i in range(n):\n",
        "        pair = random.choice(pairs)\n",
        "        input_sentence = pair[0]\n",
        "        target_sentence = pair[1]\n",
        "\n",
        "        output_words, _ = evaluate(encoder, decoder, input_sentence, input_lang, output_lang)\n",
        "        predicted_sentence = ' '.join(output_words)\n",
        "\n",
        "        bleu = compute_bleu(target_sentence, predicted_sentence)\n",
        "        scores.append(bleu)\n",
        "\n",
        "        print(f\"Input    : {input_sentence}\")\n",
        "        print(f\"Target   : {target_sentence}\")\n",
        "        print(f\"Predicted: {predicted_sentence}\")\n",
        "        print(f\"BLEU     : {bleu:.4f}\")\n",
        "        print(\"-\" * 50)\n",
        "\n",
        "    print(f\"Average BLEU Score over {n} samples: {sum(scores)/n:.4f}\")\n"
      ],
      "metadata": {
        "id": "EAItYOvr2nI_"
      },
      "execution_count": 93,
      "outputs": []
    },
    {
      "cell_type": "code",
      "source": [
        "# BLEU score execution\n",
        "evaluate_bleu_score(pairs, encoder, decoder, input_lang, output_lang, n=10)"
      ],
      "metadata": {
        "colab": {
          "base_uri": "https://localhost:8080/"
        },
        "id": "TQ_C_ICm2pyv",
        "outputId": "547a3ec1-c1fc-4672-9a3a-f6951ce20033"
      },
      "execution_count": 94,
      "outputs": [
        {
          "output_type": "stream",
          "name": "stdout",
          "text": [
            "Input    : cevabım nihai .\n",
            "Target   : my answer is final .\n",
            "Predicted: my answer is big .\n",
            "BLEU     : 0.3218\n",
            "--------------------------------------------------\n",
            "Input    : ben bir avcıyım .\n",
            "Target   : i'm a hunter .\n",
            "Predicted: i'm a hunter .\n",
            "BLEU     : 1.0000\n",
            "--------------------------------------------------\n",
            "Input    : ben buradaki bir ogrenciyim .\n",
            "Target   : i'm a student here .\n",
            "Predicted: i'm a student here .\n",
            "BLEU     : 1.0000\n",
            "--------------------------------------------------\n",
            "Input    : tom bir komedyendir .\n",
            "Target   : tom is a comedian .\n",
            "Predicted: tom is a jerk .\n",
            "BLEU     : 0.3218\n",
            "--------------------------------------------------\n",
            "Input    : korkmayacagım .\n",
            "Target   : i won't be afraid .\n",
            "Predicted: i won't be scared .\n",
            "BLEU     : 0.3218\n",
            "--------------------------------------------------\n",
            "Input    : sanırım nedenini biliyorum .\n",
            "Target   : i think i know why .\n",
            "Predicted: i think i saw check .\n",
            "BLEU     : 0.2512\n",
            "--------------------------------------------------\n",
            "Input    : tom oraya gidecek .\n",
            "Target   : tom will go there .\n",
            "Predicted: tom will go there .\n",
            "BLEU     : 1.0000\n",
            "--------------------------------------------------\n",
            "Input    : ben cok hastaydım .\n",
            "Target   : i was very sick .\n",
            "Predicted: i was very sick .\n",
            "BLEU     : 1.0000\n",
            "--------------------------------------------------\n",
            "Input    : tom akıllı gibi gorunuyor .\n",
            "Target   : tom seems wise .\n",
            "Predicted: tom seems dancing .\n",
            "BLEU     : 0.1862\n",
            "--------------------------------------------------\n",
            "Input    : tom koyunu besledi .\n",
            "Target   : tom fed the sheep .\n",
            "Predicted: tom fed his car .\n",
            "BLEU     : 0.1341\n",
            "--------------------------------------------------\n",
            "Average BLEU Score over 10 samples: 0.5537\n"
          ]
        }
      ]
    },
    {
      "cell_type": "markdown",
      "metadata": {
        "id": "7zw3OCYxT15S"
      },
      "source": [
        "Summarize your findings in detail."
      ]
    },
    {
      "cell_type": "code",
      "execution_count": null,
      "metadata": {
        "id": "X1ZexEUVT15S"
      },
      "outputs": [],
      "source": []
    }
  ],
  "metadata": {
    "accelerator": "GPU",
    "colab": {
      "gpuType": "A100",
      "provenance": []
    },
    "kernelspec": {
      "display_name": "Python 3",
      "name": "python3"
    },
    "language_info": {
      "codemirror_mode": {
        "name": "ipython",
        "version": 3
      },
      "file_extension": ".py",
      "mimetype": "text/x-python",
      "name": "python",
      "nbconvert_exporter": "python",
      "pygments_lexer": "ipython3",
      "version": "3.10.12"
    }
  },
  "nbformat": 4,
  "nbformat_minor": 0
}